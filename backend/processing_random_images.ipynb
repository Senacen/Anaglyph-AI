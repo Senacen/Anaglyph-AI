{
 "cells": [
  {
   "cell_type": "code",
   "id": "initial_id",
   "metadata": {
    "collapsed": true,
    "ExecuteTime": {
     "end_time": "2025-03-03T23:29:14.337074Z",
     "start_time": "2025-03-03T23:29:14.335644Z"
    }
   },
   "source": [
    "import numpy as np\n",
    "import pandas as pd\n",
    "import glob\n",
    "\n",
    "from backend.app import num_random_images"
   ],
   "outputs": [],
   "execution_count": 4
  },
  {
   "metadata": {
    "ExecuteTime": {
     "end_time": "2025-03-03T23:29:23.246585Z",
     "start_time": "2025-03-03T23:29:15.509145Z"
    }
   },
   "cell_type": "code",
   "source": [
    "path = './resources/unsplash-dataset/'\n",
    "documents = ['photos', 'keywords', 'collections', 'conversions', 'colors']\n",
    "datasets = {}\n",
    "\n",
    "for doc in documents:\n",
    "  files = glob.glob(path + doc + \".tsv*\")\n",
    "\n",
    "  subsets = []\n",
    "  for filename in files:\n",
    "    df = pd.read_csv(filename, sep='\\t', header=0)\n",
    "    subsets.append(df)\n",
    "\n",
    "  datasets[doc] = pd.concat(subsets, axis=0, ignore_index=True)"
   ],
   "id": "e875565d7038c449",
   "outputs": [],
   "execution_count": 5
  },
  {
   "metadata": {
    "ExecuteTime": {
     "end_time": "2025-03-03T23:29:30.769968Z",
     "start_time": "2025-03-03T23:29:30.765613Z"
    }
   },
   "cell_type": "code",
   "source": "datasets['photos'].columns",
   "id": "8bd942fd7c0c6146",
   "outputs": [
    {
     "data": {
      "text/plain": [
       "Index(['photo_id', 'photo_url', 'photo_image_url', 'photo_submitted_at',\n",
       "       'photo_featured', 'photo_width', 'photo_height', 'photo_aspect_ratio',\n",
       "       'photo_description', 'photographer_username', 'photographer_first_name',\n",
       "       'photographer_last_name', 'exif_camera_make', 'exif_camera_model',\n",
       "       'exif_iso', 'exif_aperture_value', 'exif_focal_length',\n",
       "       'exif_exposure_time', 'photo_location_name', 'photo_location_latitude',\n",
       "       'photo_location_longitude', 'photo_location_country',\n",
       "       'photo_location_city', 'stats_views', 'stats_downloads',\n",
       "       'ai_description', 'ai_primary_landmark_name',\n",
       "       'ai_primary_landmark_latitude', 'ai_primary_landmark_longitude',\n",
       "       'ai_primary_landmark_confidence', 'blur_hash'],\n",
       "      dtype='object')"
      ]
     },
     "execution_count": 7,
     "metadata": {},
     "output_type": "execute_result"
    }
   ],
   "execution_count": 7
  },
  {
   "metadata": {
    "ExecuteTime": {
     "end_time": "2025-02-27T00:05:15.633332Z",
     "start_time": "2025-02-27T00:05:15.631539Z"
    }
   },
   "cell_type": "code",
   "source": [
    "start_index = 5639\n",
    "end_index = 10000"
   ],
   "id": "23e3288326f0524a",
   "outputs": [],
   "execution_count": 29
  },
  {
   "metadata": {
    "ExecuteTime": {
     "end_time": "2025-02-27T00:39:55.686715Z",
     "start_time": "2025-02-27T00:05:17.503027Z"
    }
   },
   "cell_type": "code",
   "source": [
    "import os\n",
    "import requests\n",
    "\n",
    "# resize all images to max 2000 dimension, pillow thumbnail\n",
    "from PIL import Image\n",
    "\n",
    "image_urls = datasets['photos']['photo_image_url'].tolist()\n",
    "i = start_index\n",
    "# Watch out, won't be in sync with the index of the image as previously some images failed to download. Will cause url_index to need to be later than i\n",
    "# Seems to be a problem with url_index 5639 only\n",
    "url_index = start_index\n",
    "while i < end_index:\n",
    "    try:\n",
    "        response = requests.get(image_urls[url_index], stream=True)\n",
    "        response.raise_for_status()  # Check for errors\n",
    "\n",
    "        # Save the image\n",
    "        with open(f\"resources/random_images/image_{i}.jpg\", \"wb\") as f:\n",
    "            for chunk in response.iter_content(1024):\n",
    "                f.write(chunk)\n",
    "\n",
    "    except Exception as e:\n",
    "        print(f\"Failed to download {image_urls[i]}: {e}\")\n",
    "        url_index += 1\n",
    "        continue\n",
    "    image_path = f'./resources/random_images/image_{i}.jpg'\n",
    "    image = Image.open(image_path)\n",
    "    image = image.convert('RGB')\n",
    "    image.thumbnail((2000, 2000))\n",
    "    image.save(f'./resources/random_images/image_{i}.jpg')\n",
    "    i += 1\n",
    "    url_index += 1\n"
   ],
   "id": "d9d9112d756f9844",
   "outputs": [
    {
     "name": "stdout",
     "output_type": "stream",
     "text": [
      "Failed to download https://images.unsplash.com-grass-sun.jpg: HTTPSConnectionPool(host='images.unsplash.com-grass-sun.jpg', port=443): Max retries exceeded with url: / (Caused by NameResolutionError(\"<urllib3.connection.HTTPSConnection object at 0x17dfdfc50>: Failed to resolve 'images.unsplash.com-grass-sun.jpg' ([Errno 8] nodename nor servname provided, or not known)\"))\n"
     ]
    },
    {
     "name": "stderr",
     "output_type": "stream",
     "text": [
      "/Users/duyhuynh/Documents/Anaglyph AI/.venv/lib/python3.13/site-packages/PIL/Image.py:3406: DecompressionBombWarning: Image size (99991727 pixels) exceeds limit of 89478485 pixels, could be decompression bomb DOS attack.\n",
      "  warnings.warn(\n",
      "/Users/duyhuynh/Documents/Anaglyph AI/.venv/lib/python3.13/site-packages/PIL/Image.py:3406: DecompressionBombWarning: Image size (143040000 pixels) exceeds limit of 89478485 pixels, could be decompression bomb DOS attack.\n",
      "  warnings.warn(\n",
      "/Users/duyhuynh/Documents/Anaglyph AI/.venv/lib/python3.13/site-packages/PIL/Image.py:3406: DecompressionBombWarning: Image size (91177320 pixels) exceeds limit of 89478485 pixels, could be decompression bomb DOS attack.\n",
      "  warnings.warn(\n",
      "/Users/duyhuynh/Documents/Anaglyph AI/.venv/lib/python3.13/site-packages/PIL/Image.py:3406: DecompressionBombWarning: Image size (99996120 pixels) exceeds limit of 89478485 pixels, could be decompression bomb DOS attack.\n",
      "  warnings.warn(\n",
      "/Users/duyhuynh/Documents/Anaglyph AI/.venv/lib/python3.13/site-packages/PIL/Image.py:3406: DecompressionBombWarning: Image size (90671520 pixels) exceeds limit of 89478485 pixels, could be decompression bomb DOS attack.\n",
      "  warnings.warn(\n",
      "/Users/duyhuynh/Documents/Anaglyph AI/.venv/lib/python3.13/site-packages/PIL/Image.py:3406: DecompressionBombWarning: Image size (96000000 pixels) exceeds limit of 89478485 pixels, could be decompression bomb DOS attack.\n",
      "  warnings.warn(\n"
     ]
    }
   ],
   "execution_count": 30
  },
  {
   "metadata": {
    "ExecuteTime": {
     "end_time": "2025-02-27T01:02:34.231028Z",
     "start_time": "2025-02-27T00:45:55.395683Z"
    }
   },
   "cell_type": "code",
   "source": [
    "from depth_map_generator import depth_map_generator\n",
    "import cv2\n",
    "import numpy as np\n",
    "\n",
    "# Generate depth maps in greyscale jpeg\n",
    "if not os.path.exists('./resources/random_images_depth_maps_greyscale'):\n",
    "    os.makedirs('./resources/random_images_depth_maps_greyscale')\n",
    "for i in range(end_index):\n",
    "    image_path = f'./resources/random_images/image_{i}.jpg'\n",
    "    image = cv2.imread(image_path)\n",
    "    depth_map = depth_map_generator.generate_depth_map(image)\n",
    "    depth_map_greyscale = (depth_map * 255).astype(np.uint8)\n",
    "    cv2.imwrite(f'./resources/random_images_depth_maps_greyscale/depth_map_greyscale_{i}.jpg', depth_map_greyscale)\n",
    "\n"
   ],
   "id": "caf2012845414aa3",
   "outputs": [],
   "execution_count": 32
  },
  {
   "metadata": {
    "ExecuteTime": {
     "end_time": "2025-02-22T19:13:09.740781Z",
     "start_time": "2025-02-22T19:12:38.511080Z"
    }
   },
   "cell_type": "code",
   "source": [
    "# Generate greyscale depth maps to use jpeg compression\n",
    "\n",
    "for i in range(num_random_images):\n",
    "    depth_map_path = f'./resources/random_images_depth_maps/depth_map_{i}.npy'\n",
    "    depth_map = np.load(depth_map_path)\n",
    "    depth_map_greyscale = (depth_map * 255).astype(np.uint8)\n",
    "    cv2.imwrite(f'./resources/random_images_depth_maps_greyscale/depth_map_greyscale_{i}.jpg', depth_map_greyscale)"
   ],
   "id": "de9b05d08800e784",
   "outputs": [],
   "execution_count": 11
  }
 ],
 "metadata": {
  "kernelspec": {
   "display_name": "Python 3",
   "language": "python",
   "name": "python3"
  },
  "language_info": {
   "codemirror_mode": {
    "name": "ipython",
    "version": 2
   },
   "file_extension": ".py",
   "mimetype": "text/x-python",
   "name": "python",
   "nbconvert_exporter": "python",
   "pygments_lexer": "ipython2",
   "version": "2.7.6"
  }
 },
 "nbformat": 4,
 "nbformat_minor": 5
}
